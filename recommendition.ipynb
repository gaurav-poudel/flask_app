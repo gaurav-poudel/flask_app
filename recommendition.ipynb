{
  "nbformat": 4,
  "nbformat_minor": 0,
  "metadata": {
    "colab": {
      "provenance": []
    },
    "kernelspec": {
      "name": "python3",
      "display_name": "Python 3"
    },
    "language_info": {
      "name": "python"
    }
  },
  "cells": [
    {
      "cell_type": "code",
      "execution_count": 1,
      "metadata": {
        "id": "Le8fuzoALeGF"
      },
      "outputs": [],
      "source": [
        "import pandas as pd\n",
        "import numpy as np\n",
        "from sklearn.model_selection import train_test_split\n",
        "from sklearn.preprocessing import LabelEncoder, OneHotEncoder, StandardScaler\n",
        "from sklearn.metrics import precision_score, recall_score, mean_squared_error\n",
        "from sklearn.metrics.pairwise import cosine_similarity\n",
        "import pickle\n",
        "import matplotlib.pyplot as plt\n",
        "import seaborn as sns\n",
        "from sklearn.feature_extraction.text import TfidfVectorizer\n",
        "from sklearn.neighbors import NearestNeighbors\n",
        "import joblib"
      ]
    },
    {
      "cell_type": "code",
      "source": [
        "df = pd.read_csv('customer_data_10000.csv')\n",
        "print(df.head())"
      ],
      "metadata": {
        "colab": {
          "base_uri": "https://localhost:8080/"
        },
        "id": "baXOfkk-L6-U",
        "outputId": "c06f2c5a-36db-4647-82a1-710a28939bcb"
      },
      "execution_count": 4,
      "outputs": [
        {
          "output_type": "stream",
          "name": "stdout",
          "text": [
            "   Customer_ID  Booking_Frequency  Avg_Spending  Preferred_Service  \\\n",
            "0         1001               11.0         412.0   Remedial Massage   \n",
            "1         1002                2.0          67.0  Corporate Massage   \n",
            "2         1003                1.0         305.0             Facial   \n",
            "3         1004                5.0         997.0    Swedish Massage   \n",
            "4         1005                4.0         808.0   Hair and Make Up   \n",
            "\n",
            "                         Review_Text Last_Activity  \n",
            "0      Absolutely fantastic service.    2024-09-23  \n",
            "1              Loved the experience!    2023-12-16  \n",
            "2    Incredible attention to detail.    2022-03-08  \n",
            "3  Excellent and professional staff.    2024-07-23  \n",
            "4                 Best massage ever!    2023-12-05  \n"
          ]
        }
      ]
    },
    {
      "cell_type": "code",
      "source": [
        "service_stats = df.groupby('Preferred_Service').agg({\n",
        "    'Booking_Frequency': 'mean',\n",
        "    'Avg_Spending': 'mean',\n",
        "    'Review_Text': lambda x: ' '.join(x.dropna())\n",
        "}).reset_index()\n",
        "\n",
        "print(\"\\nService statistics:\")\n",
        "print(service_stats[['Preferred_Service', 'Booking_Frequency', 'Avg_Spending']].head())\n"
      ],
      "metadata": {
        "colab": {
          "base_uri": "https://localhost:8080/"
        },
        "id": "xQTtHvkvL7BH",
        "outputId": "55545901-afb0-4168-d11e-766adca50333"
      },
      "execution_count": 5,
      "outputs": [
        {
          "output_type": "stream",
          "name": "stdout",
          "text": [
            "\n",
            "Service statistics:\n",
            "                Preferred_Service  Booking_Frequency  Avg_Spending\n",
            "0               Corporate Massage           6.072125    615.724609\n",
            "1                  Couple Massage           6.038679    624.028409\n",
            "2                          Facial           6.141501    618.625967\n",
            "3  Hair Cut Colouring and Styling           5.883030    607.700667\n",
            "4                Hair and Make Up           6.308895    629.069540\n"
          ]
        }
      ]
    },
    {
      "cell_type": "code",
      "source": [
        "tfidf = TfidfVectorizer(\n",
        "    min_df=2,\n",
        "    max_df=0.95,\n",
        "    max_features=200,\n",
        "    stop_words='english'\n",
        ")\n"
      ],
      "metadata": {
        "id": "Dcl64BbtL7EA"
      },
      "execution_count": 6,
      "outputs": []
    },
    {
      "cell_type": "code",
      "source": [
        "# Apply TF-IDF to the combined review text\n",
        "service_reviews_tfidf = tfidf.fit_transform(service_stats['Review_Text'])\n",
        "service_reviews_df = pd.DataFrame(\n",
        "    service_reviews_tfidf.toarray(),\n",
        "    index=service_stats['Preferred_Service'],\n",
        "    columns=tfidf.get_feature_names_out()\n",
        ")"
      ],
      "metadata": {
        "id": "rBpwvx6tL7Gk"
      },
      "execution_count": 7,
      "outputs": []
    },
    {
      "cell_type": "code",
      "source": [
        "print(\"\\nTF-IDF features extracted from reviews (sample):\")\n",
        "print(service_reviews_df.iloc[:3, :5])"
      ],
      "metadata": {
        "colab": {
          "base_uri": "https://localhost:8080/"
        },
        "id": "J2hWEZ20L7Jt",
        "outputId": "4978f031-63e2-4035-abdf-9b63e31d514d"
      },
      "execution_count": 8,
      "outputs": [
        {
          "output_type": "stream",
          "name": "stdout",
          "text": [
            "\n",
            "TF-IDF features extracted from reviews (sample):\n",
            "                        did  expensive      meet     needs     worth\n",
            "Preferred_Service                                                   \n",
            "Corporate Massage  0.577350   0.000000  0.577350  0.577350  0.000000\n",
            "Couple Massage     0.218218   0.654654  0.218218  0.218218  0.654654\n",
            "Facial             0.365148   0.547723  0.365148  0.365148  0.547723\n"
          ]
        }
      ]
    },
    {
      "cell_type": "code",
      "source": [
        "service_numerical = service_stats.set_index('Preferred_Service')[['Booking_Frequency', 'Avg_Spending']]\n",
        "\n",
        "# Scale numerical features\n",
        "scaler = StandardScaler()\n",
        "service_numerical_scaled = pd.DataFrame(\n",
        "    scaler.fit_transform(service_numerical),\n",
        "    index=service_numerical.index,\n",
        "    columns=service_numerical.columns\n",
        ")\n"
      ],
      "metadata": {
        "id": "D6Lw8SRbL7Mk"
      },
      "execution_count": 9,
      "outputs": []
    },
    {
      "cell_type": "code",
      "source": [
        "service_features = pd.concat([service_numerical_scaled, service_reviews_df], axis=1)\n",
        "\n",
        "print(\"\\nFinal service feature matrix shape:\", service_features.shape)\n",
        "print(\"\\nService feature matrix (sample):\")\n",
        "print(service_features.iloc[:3, :7])"
      ],
      "metadata": {
        "colab": {
          "base_uri": "https://localhost:8080/"
        },
        "id": "p4X_lMf3L7P9",
        "outputId": "c0ccc479-8a0d-42af-9521-bc58dbfd8c96"
      },
      "execution_count": 10,
      "outputs": [
        {
          "output_type": "stream",
          "name": "stdout",
          "text": [
            "\n",
            "Final service feature matrix shape: (9, 7)\n",
            "\n",
            "Service feature matrix (sample):\n",
            "                   Booking_Frequency  Avg_Spending       did  expensive  \\\n",
            "Preferred_Service                                                         \n",
            "Corporate Massage          -0.079882     -0.464583  0.577350   0.000000   \n",
            "Couple Massage             -0.336403      0.317886  0.218218   0.654654   \n",
            "Facial                      0.452223     -0.191187  0.365148   0.547723   \n",
            "\n",
            "                       meet     needs     worth  \n",
            "Preferred_Service                                \n",
            "Corporate Massage  0.577350  0.577350  0.000000  \n",
            "Couple Massage     0.218218  0.218218  0.654654  \n",
            "Facial             0.365148  0.365148  0.547723  \n"
          ]
        }
      ]
    },
    {
      "cell_type": "code",
      "source": [
        "# Step 1: Identify each user's preferred service\n",
        "user_preferred_service = df[['Customer_ID', 'Preferred_Service']].drop_duplicates()\n",
        "\n",
        "# Step 2: Create user profiles by mapping their preferred service to service features\n",
        "user_profiles = {}\n",
        "for _, row in user_preferred_service.iterrows():\n",
        "    user_id = row['Customer_ID']\n",
        "    service = row['Preferred_Service']\n",
        "    if service in service_features.index:\n",
        "        user_profiles[user_id] = service_features.loc[service].to_dict()"
      ],
      "metadata": {
        "id": "YZqobp_6MxKQ"
      },
      "execution_count": 11,
      "outputs": []
    },
    {
      "cell_type": "code",
      "source": [],
      "metadata": {
        "id": "qFEKuBdEMxHH"
      },
      "execution_count": null,
      "outputs": []
    },
    {
      "cell_type": "code",
      "source": [
        "# Convert user profiles to DataFrame for easier handling\n",
        "user_profiles_df = pd.DataFrame.from_dict(user_profiles, orient='index')\n",
        "\n",
        "print(f\"\\nCreated profiles for {len(user_profiles)} users\")\n",
        "print(\"\\nSample user profile (first user, first 5 features):\")\n",
        "first_user = list(user_profiles.keys())[0]\n",
        "sample_features = list(user_profiles[first_user].keys())[:5]\n",
        "for feature in sample_features:\n",
        "    print(f\"{feature}: {user_profiles[first_user][feature]}\")"
      ],
      "metadata": {
        "colab": {
          "base_uri": "https://localhost:8080/"
        },
        "id": "LB13SRDOMxD_",
        "outputId": "68f21ba9-6fb1-4da5-ac6f-4d1136b50d6b"
      },
      "execution_count": 12,
      "outputs": [
        {
          "output_type": "stream",
          "name": "stdout",
          "text": [
            "\n",
            "Created profiles for 9813 users\n",
            "\n",
            "Sample user profile (first user, first 5 features):\n",
            "Booking_Frequency: 1.2425851371899188\n",
            "Avg_Spending: -0.014017392880665749\n",
            "did: 0.4472135954999579\n",
            "expensive: 0.4472135954999579\n",
            "meet: 0.4472135954999579\n"
          ]
        }
      ]
    },
    {
      "cell_type": "code",
      "source": [
        "# Convert service features to a matrix for similarity calculation\n",
        "service_feature_matrix = service_features.values\n",
        "service_indices = {service: i for i, service in enumerate(service_features.index)}\n",
        "\n",
        "# Calculate cosine similarity between services\n",
        "service_similarity = cosine_similarity(service_feature_matrix)\n",
        "\n",
        "# Create a DataFrame for the similarity matrix\n",
        "service_similarity_df = pd.DataFrame(\n",
        "    service_similarity,\n",
        "    index=service_features.index,\n",
        "    columns=service_features.index\n",
        ")"
      ],
      "metadata": {
        "id": "h8DpYAUIMxBO"
      },
      "execution_count": 13,
      "outputs": []
    },
    {
      "cell_type": "code",
      "source": [
        "print(\"\\nService similarity matrix (sample):\")\n",
        "print(service_similarity_df.iloc[:5, :5])"
      ],
      "metadata": {
        "colab": {
          "base_uri": "https://localhost:8080/"
        },
        "id": "Qc77iaedMw-A",
        "outputId": "e8c2ba44-e180-4323-d7bd-94c78c6956e0"
      },
      "execution_count": 14,
      "outputs": [
        {
          "output_type": "stream",
          "name": "stdout",
          "text": [
            "\n",
            "Service similarity matrix (sample):\n",
            "Preferred_Service               Corporate Massage  Couple Massage    Facial  \\\n",
            "Preferred_Service                                                             \n",
            "Corporate Massage                        1.000000        0.211091  0.556311   \n",
            "Couple Massage                           0.211091        1.000000  0.605490   \n",
            "Facial                                   0.556311        0.605490  1.000000   \n",
            "Hair Cut Colouring and Styling           0.498576        0.459788  0.217358   \n",
            "Hair and Make Up                        -0.212860        0.250113  0.586613   \n",
            "\n",
            "Preferred_Service               Hair Cut Colouring and Styling  \\\n",
            "Preferred_Service                                                \n",
            "Corporate Massage                                     0.498576   \n",
            "Couple Massage                                        0.459788   \n",
            "Facial                                                0.217358   \n",
            "Hair Cut Colouring and Styling                        1.000000   \n",
            "Hair and Make Up                                     -0.585208   \n",
            "\n",
            "Preferred_Service               Hair and Make Up  \n",
            "Preferred_Service                                 \n",
            "Corporate Massage                      -0.212860  \n",
            "Couple Massage                          0.250113  \n",
            "Facial                                  0.586613  \n",
            "Hair Cut Colouring and Styling         -0.585208  \n",
            "Hair and Make Up                        1.000000  \n"
          ]
        }
      ]
    },
    {
      "cell_type": "code",
      "source": [],
      "metadata": {
        "id": "CIqAEEjqMw7N"
      },
      "execution_count": null,
      "outputs": []
    },
    {
      "cell_type": "code",
      "source": [
        "# Cell 6: Create recommendation function\n",
        "def recommend_services(customer_id, top_n=3):\n",
        "    \"\"\"\n",
        "    Recommend services for a specific customer based on their current preference.\n",
        "\n",
        "    Parameters:\n",
        "    customer_id: ID of the customer\n",
        "    top_n: Number of recommendations to return\n",
        "\n",
        "    Returns:\n",
        "    List of recommended services\n",
        "    \"\"\"\n",
        "    # Get customer's preferred service\n",
        "    try:\n",
        "        preferred_service = df[df['Customer_ID'] == customer_id]['Preferred_Service'].iloc[0]\n",
        "    except IndexError:\n",
        "        return \"Customer ID not found\"\n",
        "\n",
        "    # Get similarity scores for the customer's preferred service\n",
        "    if preferred_service not in service_similarity_df.index:\n",
        "        return \"Service not found in similarity matrix\"\n",
        "\n",
        "    service_scores = service_similarity_df.loc[preferred_service].sort_values(ascending=False)\n",
        "\n",
        "    # Filter out the service itself\n",
        "    similar_services = service_scores.drop(preferred_service).head(top_n)\n",
        "\n",
        "    return similar_services"
      ],
      "metadata": {
        "id": "Mw8ww3JINkxY"
      },
      "execution_count": 15,
      "outputs": []
    },
    {
      "cell_type": "code",
      "source": [
        "# Test the recommendation function\n",
        "test_customer = df['Customer_ID'].iloc[0]\n",
        "print(f\"\\nTest recommendations for customer {test_customer}:\")\n",
        "recommendations = recommend_services(test_customer)\n",
        "print(recommendations)\n",
        "\n",
        "# Cell 7: Evaluate the recommendation model\n",
        "print(\"\\nEvaluating the recommendation model...\")\n",
        "\n",
        "# For evaluation, we'll need a test set where we know the ground truth\n",
        "# We'll split customers into train (80%) and test (20%) sets\n",
        "train_customers, test_customers = train_test_split(\n",
        "    df['Customer_ID'].unique(),\n",
        "    test_size=0.2,\n",
        "    random_state=42\n",
        ")"
      ],
      "metadata": {
        "colab": {
          "base_uri": "https://localhost:8080/"
        },
        "id": "xl7E1BqdNkuj",
        "outputId": "3af068d6-d164-4ea5-ac52-2e3708651aba"
      },
      "execution_count": 16,
      "outputs": [
        {
          "output_type": "stream",
          "name": "stdout",
          "text": [
            "\n",
            "Test recommendations for customer 1001:\n",
            "Preferred_Service\n",
            "Facial              0.869135\n",
            "Hair and Make Up    0.808464\n",
            "Swedish Massage     0.568491\n",
            "Name: Remedial Massage, dtype: float64\n",
            "\n",
            "Evaluating the recommendation model...\n"
          ]
        }
      ]
    },
    {
      "cell_type": "code",
      "source": [
        "# Function to evaluate recommendations\n",
        "def evaluate_recommendations(test_customers, top_n=3):\n",
        "    # Create a copy of the original dataframe with only test customers\n",
        "    test_df = df[df['Customer_ID'].isin(test_customers)].copy()\n",
        "\n",
        "    # For each test customer, we'll recommend services and check if their actual service is in the recommendations\n",
        "    hits = 0\n",
        "    total = 0\n",
        "\n",
        "    for customer_id in test_customers:\n",
        "        # Get actual preferred service\n",
        "        actual_service = test_df[test_df['Customer_ID'] == customer_id]['Preferred_Service'].iloc[0]\n",
        "\n",
        "        # Get recommendations\n",
        "        recommendations = recommend_services(customer_id, top_n)\n",
        "        if isinstance(recommendations, str):  # Skip if error occurred\n",
        "            continue\n",
        "\n",
        "        # Check if actual service is in the recommended services\n",
        "        recommended_services = recommendations.index.tolist()\n",
        "        if actual_service in recommended_services:\n",
        "            hits += 1\n",
        "        total += 1\n",
        "\n",
        "    # Calculate precision@N and recall@N\n",
        "    precision = hits / (total * top_n)\n",
        "    recall = hits / total\n",
        "\n",
        "    return {\n",
        "        'precision': precision,\n",
        "        'recall': recall,\n",
        "        'hit_rate': hits / total\n",
        "    }\n"
      ],
      "metadata": {
        "id": "QE4kfo71Nkrp"
      },
      "execution_count": 17,
      "outputs": []
    },
    {
      "cell_type": "code",
      "source": [
        "# Evaluate with different numbers of recommendations\n",
        "evaluation_results = {}\n",
        "for n in [1, 3, 5]:\n",
        "    evaluation_results[n] = evaluate_recommendations(test_customers, n)\n",
        "\n",
        "# Print evaluation results\n",
        "print(\"\\nEvaluation Results:\")\n",
        "for n, metrics in evaluation_results.items():\n",
        "    print(f\"Top-{n} recommendations:\")\n",
        "    print(f\"  Precision@{n}: {metrics['precision']:.4f}\")\n",
        "    print(f\"  Recall@{n}: {metrics['recall']:.4f}\")\n",
        "    print(f\"  Hit Rate: {metrics['hit_rate']:.4f}\")\n",
        "\n",
        "# Cell 8: Visualize model performance\n",
        "# Create bar chart of hit rate for different top-N values\n",
        "plt.figure(figsize=(10, 6))\n",
        "hit_rates = [metrics['hit_rate'] for metrics in evaluation_results.values()]\n",
        "top_n_values = list(evaluation_results.keys())\n",
        "\n",
        "plt.bar(top_n_values, hit_rates, color='teal')\n",
        "plt.title('Recommendation Hit Rate for Different Top-N Values', fontsize=14)\n",
        "plt.xlabel('Number of Recommendations (N)', fontsize=12)\n",
        "plt.ylabel('Hit Rate', fontsize=12)\n",
        "plt.xticks(top_n_values)\n",
        "plt.grid(axis='y', linestyle='--', alpha=0.7)\n",
        "\n",
        "# Add value labels on the bars\n",
        "for i, v in enumerate(hit_rates):\n",
        "    plt.text(top_n_values[i], v + 0.01, f\"{v:.3f}\", ha='center', fontsize=10)\n",
        "\n",
        "plt.tight_layout()\n",
        "plt.show()\n"
      ],
      "metadata": {
        "colab": {
          "base_uri": "https://localhost:8080/",
          "height": 857
        },
        "id": "_pBQiBV5NkpC",
        "outputId": "f1fabc33-263d-4939-8421-37d8dc525500"
      },
      "execution_count": 18,
      "outputs": [
        {
          "output_type": "stream",
          "name": "stdout",
          "text": [
            "\n",
            "Evaluation Results:\n",
            "Top-1 recommendations:\n",
            "  Precision@1: 0.0000\n",
            "  Recall@1: 0.0000\n",
            "  Hit Rate: 0.0000\n",
            "Top-3 recommendations:\n",
            "  Precision@3: 0.0000\n",
            "  Recall@3: 0.0000\n",
            "  Hit Rate: 0.0000\n",
            "Top-5 recommendations:\n",
            "  Precision@5: 0.0000\n",
            "  Recall@5: 0.0000\n",
            "  Hit Rate: 0.0000\n"
          ]
        },
        {
          "output_type": "display_data",
          "data": {
            "text/plain": [
              "<Figure size 1000x600 with 1 Axes>"
            ],
            "image/png": "[encoded data removed]"
          },
          "metadata": {}
        }
      ]
    },
    {
      "cell_type": "code",
      "source": [
        "# Create a model object that includes everything needed for recommendations\n",
        "recommendation_model = {\n",
        "    'service_similarity': service_similarity_df,\n",
        "    'service_features': service_features,\n",
        "    'tfidf_vectorizer': tfidf,\n",
        "    'scaler': scaler,\n",
        "    'service_mapping': service_indices\n",
        "}\n",
        "\n",
        "# Save the model using joblib\n",
        "joblib.dump(recommendation_model, 'recommendation_model.pkl')\n",
        "print(\"Model saved as 'recommendation_model.pkl'\")\n",
        "\n",
        "# Cell 10: Function to recommend services for new customers\n",
        "def recommend_for_new_customer(customer_features, top_n=3):\n",
        "    \"\"\"\n",
        "    Recommend services for a new customer based on their features.\n",
        "\n",
        "    Parameters:\n",
        "    customer_features: Dictionary with customer features such as booking frequency, spending\n",
        "    top_n: Number of recommendations to return\n",
        "\n",
        "    Returns:\n",
        "    List of recommended services\n",
        "    \"\"\"\n",
        "    # For a new customer with no service history, we'll use their features\n",
        "    # to find the most suitable services\n",
        "\n",
        "    # Convert customer features to vector\n",
        "    customer_vector = np.zeros(service_features.shape[1])\n",
        "\n",
        "    # Fill in the known features (e.g., booking frequency, avg spending)\n",
        "    if 'Booking_Frequency' in customer_features:\n",
        "        # Normalize the value using the same scaler as services\n",
        "        bf_idx = service_features.columns.get_loc('Booking_Frequency')\n",
        "        normalized_bf = (customer_features['Booking_Frequency'] - scaler.mean_[0]) / scaler.scale_[0]\n",
        "        customer_vector[bf_idx] = normalized_bf\n",
        "\n",
        "    if 'Avg_Spending' in customer_features:\n",
        "        # Normalize the value\n",
        "        as_idx = service_features.columns.get_loc('Avg_Spending')\n",
        "        normalized_as = (customer_features['Avg_Spending'] - scaler.mean_[1]) / scaler.scale_[1]\n",
        "        customer_vector[as_idx] = normalized_as\n",
        "\n",
        "    # Calculate similarity between customer vector and all services\n",
        "    similarities = cosine_similarity([customer_vector], service_feature_matrix)[0]\n",
        "\n",
        "    # Get top N services\n",
        "    service_indices = np.argsort(similarities)[::-1][:top_n]\n",
        "    recommended_services = [service_features.index[idx] for idx in service_indices]\n",
        "\n",
        "    return recommended_services\n",
        "\n",
        "# Example usage for a new customer\n",
        "new_customer = {\n",
        "    'Booking_Frequency': 5,\n",
        "    'Avg_Spending': 500\n",
        "}\n",
        "\n",
        "print(\"\\nRecommendations for a new customer:\")\n",
        "print(f\"Customer profile: {new_customer}\")\n",
        "new_customer_recommendations = recommend_for_new_customer(new_customer)\n",
        "print(f\"Recommended services: {new_customer_recommendations}\")\n",
        "\n",
        "# Cell 11: Function to get similar customers\n",
        "def get_similar_customers(customer_id, top_n=5):\n",
        "    \"\"\"\n",
        "    Find similar customers based on their service preferences and features.\n",
        "\n",
        "    Parameters:\n",
        "    customer_id: ID of the customer\n",
        "    top_n: Number of similar customers to return\n",
        "\n",
        "    Returns:\n",
        "    List of similar customer IDs\n",
        "    \"\"\"\n",
        "    # Get the customer's profile\n",
        "    if customer_id not in user_profiles:\n",
        "        return \"Customer ID not found in profiles\"\n",
        "\n",
        "    customer_profile = user_profiles[customer_id]\n",
        "\n",
        "    # Calculate similarity with all other customers\n",
        "    similarities = []\n",
        "    for other_id, other_profile in user_profiles.items():\n",
        "        if other_id != customer_id:\n",
        "            # Convert profiles to vectors\n",
        "            customer_vector = np.array(list(customer_profile.values()))\n",
        "            other_vector = np.array(list(other_profile.values()))\n",
        "\n",
        "            # Calculate cosine similarity\n",
        "            similarity = cosine_similarity([customer_vector], [other_vector])[0][0]\n",
        "            similarities.append((other_id, similarity))\n",
        "\n",
        "    # Sort by similarity (descending)\n",
        "    similarities.sort(key=lambda x: x[1], reverse=True)\n",
        "\n",
        "    # Return top N similar customers\n",
        "    return similarities[:top_n]\n",
        "\n",
        "# Example usage\n",
        "test_customer = list(user_profiles.keys())[0]\n",
        "print(f\"\\nFinding similar customers to customer {test_customer}:\")\n",
        "similar_customers = get_similar_customers(test_customer)\n",
        "print(similar_customers)"
      ],
      "metadata": {
        "colab": {
          "base_uri": "https://localhost:8080/"
        },
        "id": "ENIq-hcWNkl8",
        "outputId": "f83ceb42-2074-4096-aa77-1542e3b815bd"
      },
      "execution_count": 19,
      "outputs": [
        {
          "output_type": "stream",
          "name": "stdout",
          "text": [
            "Model saved as 'recommendation_model.pkl'\n",
            "\n",
            "Recommendations for a new customer:\n",
            "Customer profile: {'Booking_Frequency': 5, 'Avg_Spending': 500}\n",
            "Recommended services: ['Hair Cut Colouring and Styling', 'Sports Massage', 'Corporate Massage']\n",
            "\n",
            "Finding similar customers to customer 1001:\n",
            "[(1017, np.float64(1.0000000000000004)), (1037, np.float64(1.0000000000000004)), (1043, np.float64(1.0000000000000004)), (1072, np.float64(1.0000000000000004)), (1075, np.float64(1.0000000000000004))]\n"
          ]
        }
      ]
    },
    {
      "cell_type": "code",
      "source": [],
      "metadata": {
        "id": "zLevDE3SNkii"
      },
      "execution_count": null,
      "outputs": []
    },
    {
      "cell_type": "code",
      "source": [],
      "metadata": {
        "id": "PF81QGlFNkfa"
      },
      "execution_count": null,
      "outputs": []
    }
  ]
}